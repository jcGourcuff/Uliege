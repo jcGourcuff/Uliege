{
  "nbformat": 4,
  "nbformat_minor": 0,
  "metadata": {
    "colab": {
      "name": "BoxClassifier.ipynb",
      "provenance": [],
      "collapsed_sections": []
    },
    "kernelspec": {
      "name": "python3",
      "display_name": "Python 3"
    },
    "accelerator": "GPU",
    "widgets": {
      "application/vnd.jupyter.widget-state+json": {
        "57a46c6f011e4f87a2afc79cf88f77ea": {
          "model_module": "@jupyter-widgets/controls",
          "model_name": "HBoxModel",
          "state": {
            "_view_name": "HBoxView",
            "_dom_classes": [],
            "_model_name": "HBoxModel",
            "_view_module": "@jupyter-widgets/controls",
            "_model_module_version": "1.5.0",
            "_view_count": null,
            "_view_module_version": "1.5.0",
            "box_style": "",
            "layout": "IPY_MODEL_55a46c937bde4483a597991ab5743f2f",
            "_model_module": "@jupyter-widgets/controls",
            "children": [
              "IPY_MODEL_cc98d311abaa4870a0e23d14d7bbbc7f",
              "IPY_MODEL_ccfdb609a1f4445fa33eca90282c02f3"
            ]
          }
        },
        "55a46c937bde4483a597991ab5743f2f": {
          "model_module": "@jupyter-widgets/base",
          "model_name": "LayoutModel",
          "state": {
            "_view_name": "LayoutView",
            "grid_template_rows": null,
            "right": null,
            "justify_content": null,
            "_view_module": "@jupyter-widgets/base",
            "overflow": null,
            "_model_module_version": "1.2.0",
            "_view_count": null,
            "flex_flow": null,
            "width": null,
            "min_width": null,
            "border": null,
            "align_items": null,
            "bottom": null,
            "_model_module": "@jupyter-widgets/base",
            "top": null,
            "grid_column": null,
            "overflow_y": null,
            "overflow_x": null,
            "grid_auto_flow": null,
            "grid_area": null,
            "grid_template_columns": null,
            "flex": null,
            "_model_name": "LayoutModel",
            "justify_items": null,
            "grid_row": null,
            "max_height": null,
            "align_content": null,
            "visibility": null,
            "align_self": null,
            "height": null,
            "min_height": null,
            "padding": null,
            "grid_auto_rows": null,
            "grid_gap": null,
            "max_width": null,
            "order": null,
            "_view_module_version": "1.2.0",
            "grid_template_areas": null,
            "object_position": null,
            "object_fit": null,
            "grid_auto_columns": null,
            "margin": null,
            "display": null,
            "left": null
          }
        },
        "cc98d311abaa4870a0e23d14d7bbbc7f": {
          "model_module": "@jupyter-widgets/controls",
          "model_name": "FloatProgressModel",
          "state": {
            "_view_name": "ProgressView",
            "style": "IPY_MODEL_071a591bb2c1403ebbc55fb2b4706839",
            "_dom_classes": [],
            "description": "100%",
            "_model_name": "FloatProgressModel",
            "bar_style": "success",
            "max": 46827520,
            "_view_module": "@jupyter-widgets/controls",
            "_model_module_version": "1.5.0",
            "value": 46827520,
            "_view_count": null,
            "_view_module_version": "1.5.0",
            "orientation": "horizontal",
            "min": 0,
            "description_tooltip": null,
            "_model_module": "@jupyter-widgets/controls",
            "layout": "IPY_MODEL_73d6ad3674304c009f5256f50fd8c0d8"
          }
        },
        "ccfdb609a1f4445fa33eca90282c02f3": {
          "model_module": "@jupyter-widgets/controls",
          "model_name": "HTMLModel",
          "state": {
            "_view_name": "HTMLView",
            "style": "IPY_MODEL_410a834c33604124a87e5efb6270e94e",
            "_dom_classes": [],
            "description": "",
            "_model_name": "HTMLModel",
            "placeholder": "​",
            "_view_module": "@jupyter-widgets/controls",
            "_model_module_version": "1.5.0",
            "value": " 44.7M/44.7M [00:25&lt;00:00, 1.86MB/s]",
            "_view_count": null,
            "_view_module_version": "1.5.0",
            "description_tooltip": null,
            "_model_module": "@jupyter-widgets/controls",
            "layout": "IPY_MODEL_a973f17f53fb441eac482022d01613dd"
          }
        },
        "071a591bb2c1403ebbc55fb2b4706839": {
          "model_module": "@jupyter-widgets/controls",
          "model_name": "ProgressStyleModel",
          "state": {
            "_view_name": "StyleView",
            "_model_name": "ProgressStyleModel",
            "description_width": "initial",
            "_view_module": "@jupyter-widgets/base",
            "_model_module_version": "1.5.0",
            "_view_count": null,
            "_view_module_version": "1.2.0",
            "bar_color": null,
            "_model_module": "@jupyter-widgets/controls"
          }
        },
        "73d6ad3674304c009f5256f50fd8c0d8": {
          "model_module": "@jupyter-widgets/base",
          "model_name": "LayoutModel",
          "state": {
            "_view_name": "LayoutView",
            "grid_template_rows": null,
            "right": null,
            "justify_content": null,
            "_view_module": "@jupyter-widgets/base",
            "overflow": null,
            "_model_module_version": "1.2.0",
            "_view_count": null,
            "flex_flow": null,
            "width": null,
            "min_width": null,
            "border": null,
            "align_items": null,
            "bottom": null,
            "_model_module": "@jupyter-widgets/base",
            "top": null,
            "grid_column": null,
            "overflow_y": null,
            "overflow_x": null,
            "grid_auto_flow": null,
            "grid_area": null,
            "grid_template_columns": null,
            "flex": null,
            "_model_name": "LayoutModel",
            "justify_items": null,
            "grid_row": null,
            "max_height": null,
            "align_content": null,
            "visibility": null,
            "align_self": null,
            "height": null,
            "min_height": null,
            "padding": null,
            "grid_auto_rows": null,
            "grid_gap": null,
            "max_width": null,
            "order": null,
            "_view_module_version": "1.2.0",
            "grid_template_areas": null,
            "object_position": null,
            "object_fit": null,
            "grid_auto_columns": null,
            "margin": null,
            "display": null,
            "left": null
          }
        },
        "410a834c33604124a87e5efb6270e94e": {
          "model_module": "@jupyter-widgets/controls",
          "model_name": "DescriptionStyleModel",
          "state": {
            "_view_name": "StyleView",
            "_model_name": "DescriptionStyleModel",
            "description_width": "",
            "_view_module": "@jupyter-widgets/base",
            "_model_module_version": "1.5.0",
            "_view_count": null,
            "_view_module_version": "1.2.0",
            "_model_module": "@jupyter-widgets/controls"
          }
        },
        "a973f17f53fb441eac482022d01613dd": {
          "model_module": "@jupyter-widgets/base",
          "model_name": "LayoutModel",
          "state": {
            "_view_name": "LayoutView",
            "grid_template_rows": null,
            "right": null,
            "justify_content": null,
            "_view_module": "@jupyter-widgets/base",
            "overflow": null,
            "_model_module_version": "1.2.0",
            "_view_count": null,
            "flex_flow": null,
            "width": null,
            "min_width": null,
            "border": null,
            "align_items": null,
            "bottom": null,
            "_model_module": "@jupyter-widgets/base",
            "top": null,
            "grid_column": null,
            "overflow_y": null,
            "overflow_x": null,
            "grid_auto_flow": null,
            "grid_area": null,
            "grid_template_columns": null,
            "flex": null,
            "_model_name": "LayoutModel",
            "justify_items": null,
            "grid_row": null,
            "max_height": null,
            "align_content": null,
            "visibility": null,
            "align_self": null,
            "height": null,
            "min_height": null,
            "padding": null,
            "grid_auto_rows": null,
            "grid_gap": null,
            "max_width": null,
            "order": null,
            "_view_module_version": "1.2.0",
            "grid_template_areas": null,
            "object_position": null,
            "object_fit": null,
            "grid_auto_columns": null,
            "margin": null,
            "display": null,
            "left": null
          }
        }
      }
    }
  },
  "cells": [
    {
      "cell_type": "markdown",
      "metadata": {
        "id": "NcSvSO3Q4XrR",
        "colab_type": "text"
      },
      "source": [
        "[![Open In Colab](https://colab.research.google.com/assets/colab-badge.svg)](https://github.com/jcGourcuff/Uliege/blob/master/BoxClassifier.ipynb)\n",
        "\n",
        "# Imports\n",
        "\n",
        "### Librairies\n"
      ]
    },
    {
      "cell_type": "code",
      "metadata": {
        "id": "oOXkQx964Wwq",
        "colab_type": "code",
        "colab": {}
      },
      "source": [
        "import numpy as np\n",
        "import torch\n",
        "import torch.nn as nn\n",
        "import pandas as pd\n",
        "import torchvision\n",
        "from torchvision import models,transforms\n",
        "from torch.utils.data import Dataset, DataLoader\n",
        "from PIL import Image\n",
        "from skimage import io\n",
        "import matplotlib.pyplot as plt\n",
        "from sklearn.preprocessing import OneHotEncoder\n",
        "from sklearn.metrics import confusion_matrix\n",
        "from google.colab import files\n",
        "import os\n",
        "import glob\n",
        "%matplotlib inline"
      ],
      "execution_count": null,
      "outputs": []
    },
    {
      "cell_type": "markdown",
      "metadata": {
        "id": "6oq8dT0H46JX",
        "colab_type": "text"
      },
      "source": [
        "### Data"
      ]
    },
    {
      "cell_type": "code",
      "metadata": {
        "id": "bcBmydAW48YH",
        "colab_type": "code",
        "colab": {
          "base_uri": "https://localhost:8080/",
          "height": 156
        },
        "outputId": "cf28ff92-7cc6-41e1-e6c4-49b1e4d510ed"
      },
      "source": [
        "!git clone https://github.com/jcGourcuff/customNILMdataSet.git"
      ],
      "execution_count": null,
      "outputs": [
        {
          "output_type": "stream",
          "text": [
            "Cloning into 'customNILMdataSet'...\n",
            "remote: Enumerating objects: 262, done.\u001b[K\n",
            "remote: Counting objects: 100% (262/262), done.\u001b[K\n",
            "remote: Compressing objects: 100% (260/260), done.\u001b[K\n",
            "remote: Total 33844 (delta 1), reused 261 (delta 0), pack-reused 33582\u001b[K\n",
            "Receiving objects: 100% (33844/33844), 981.23 MiB | 54.18 MiB/s, done.\n",
            "Resolving deltas: 100% (33232/33232), done.\n",
            "Checking out files: 100% (33772/33772), done.\n"
          ],
          "name": "stdout"
        }
      ]
    },
    {
      "cell_type": "code",
      "metadata": {
        "id": "_Xm9rHcR5Pjl",
        "colab_type": "code",
        "colab": {
          "base_uri": "https://localhost:8080/",
          "height": 34
        },
        "outputId": "85d4d0ac-f2d9-4127-c736-36620acd85ca"
      },
      "source": [
        "!ls"
      ],
      "execution_count": null,
      "outputs": [
        {
          "output_type": "stream",
          "text": [
            "customNILMdataSet  sample_data\n"
          ],
          "name": "stdout"
        }
      ]
    },
    {
      "cell_type": "code",
      "metadata": {
        "id": "jbOrtpaO52CM",
        "colab_type": "code",
        "colab": {}
      },
      "source": [
        "root_dir = 'customNILMdataSet/NILM_image_DataSet/'"
      ],
      "execution_count": null,
      "outputs": []
    },
    {
      "cell_type": "markdown",
      "metadata": {
        "id": "v7EITaWY6EcB",
        "colab_type": "text"
      },
      "source": [
        "# Set up\n",
        "\n"
      ]
    },
    {
      "cell_type": "markdown",
      "metadata": {
        "id": "j_fU6idECt0p",
        "colab_type": "text"
      },
      "source": [
        "### Class encoding\n",
        "\n"
      ]
    },
    {
      "cell_type": "code",
      "metadata": {
        "id": "4hLBz_oQ6NZx",
        "colab_type": "code",
        "colab": {
          "base_uri": "https://localhost:8080/",
          "height": 52
        },
        "outputId": "7ba27fb3-f7c6-4891-c93f-ae4587d8f45f"
      },
      "source": [
        "classes_modes = {'all' : ['residuals', 'oven', 'refrigerator', 'dishwasher', 'kitchen_outlets', 'lighting', 'washer_dryer', 'microwave', 'bathroom_gfi'],\n",
        "                 'minimal' : ['refrigerator', 'dishwasher', 'lighting', 'washer_dryer'],\n",
        "                 'minimal_plus_kitchen' : ['refrigerator', 'dishwasher', 'lighting', 'washer_dryer', 'kitchen_outlets'],\n",
        "                 'hybrid' : ['oven', 'refrigerator', 'dishwasher', 'kitchen_outlets', 'lighting', 'washer_dryer', 'microwave', 'bathroom_gfi']}\n",
        "classes = classes_modes['minimal']\n",
        "lab_encoder= OneHotEncoder(sparse = False)\n",
        "lab_encoder.fit([[name] for name in classes])\n",
        "lab_encoder.categories_"
      ],
      "execution_count": null,
      "outputs": [
        {
          "output_type": "execute_result",
          "data": {
            "text/plain": [
              "[array(['dishwasher', 'lighting', 'refrigerator', 'washer_dryer'],\n",
              "       dtype=object)]"
            ]
          },
          "metadata": {
            "tags": []
          },
          "execution_count": 5
        }
      ]
    },
    {
      "cell_type": "code",
      "metadata": {
        "id": "Dq7LtYaAxxgl",
        "colab_type": "code",
        "colab": {}
      },
      "source": [
        "def get_encoding_index_corespondances():\n",
        "    result = {}\n",
        "    for cls in classes :\n",
        "      encoding = lab_encoder.transform([[cls]])[0]\n",
        "      result[str(np.argmax(encoding))] = cls\n",
        "    return result"
      ],
      "execution_count": null,
      "outputs": []
    },
    {
      "cell_type": "markdown",
      "metadata": {
        "id": "g3CotubqsmvX",
        "colab_type": "text"
      },
      "source": [
        "### Id selection\n",
        "\n",
        "Here we select the indexes relevant to our ML task. It includes class selection, samples homogeneisation and/or downsampling for the over represented classes. "
      ]
    },
    {
      "cell_type": "code",
      "metadata": {
        "id": "_4KYxYqRtbBc",
        "colab_type": "code",
        "colab": {}
      },
      "source": [
        "def import_labels(nb_apps):\n",
        "  \"\"\"\n",
        "  nb_apps list or digit\n",
        "  \"\"\"\n",
        "  if type(nb_apps) == list :\n",
        "    result = []\n",
        "    for i in nb_apps :\n",
        "      result.append(import_labels(i))\n",
        "    return pd.concat(result, axis = 0)\n",
        "  else :\n",
        "    return pd.read_csv(root_dir + str(nb_apps) + '_apps/labels.csv', compression = 'zip').set_index('id')\n",
        "  \n",
        "def class_select(labels):\n",
        "    mask = (labels['label']==classes[0])\n",
        "    for cls in classes[1:]:\n",
        "      mask = mask | (labels['label']==cls)\n",
        "    return labels[mask]\n",
        "    \n",
        "def downsampling(labels, max_over_rep = 1.3):\n",
        "    nbs = [np.sum(labels['label']== cls) for cls in classes]\n",
        "    cls_min = classes[np.argmin(nbs)]\n",
        "    result =  labels[labels['label'] == cls_min]\n",
        "    for cls in classes  :\n",
        "      if cls != cls_min :\n",
        "        df = labels[labels['label']==cls]\n",
        "        df = df.loc[np.random.choice(df.index, size = min(int(min(nbs)*1.3),df.shape[0]) , replace = False)]\n",
        "        result = pd.concat([result, df], axis = 0)\n",
        "    return result\n"
      ],
      "execution_count": null,
      "outputs": []
    },
    {
      "cell_type": "markdown",
      "metadata": {
        "id": "Xm3C4UAMGd4L",
        "colab_type": "text"
      },
      "source": [
        "Here we define a few functions to keep relevant examples, that is limiting the 'small boxes'."
      ]
    },
    {
      "cell_type": "code",
      "metadata": {
        "id": "0kS6c_6_GnUO",
        "colab_type": "code",
        "colab": {}
      },
      "source": [
        "def prob(lamb, pow):\n",
        "    def f(x):\n",
        "        return np.power(x/lamb, pow)*(pow+1)/lamb\n",
        "    return f\n",
        "\n",
        "def sample_from(ids, values, law):\n",
        "    \"\"\"\n",
        "    Samples input such that frequency obeys at max the law.\n",
        "    \"\"\"\n",
        "    result = []\n",
        "    for id, value in zip(ids, values) :\n",
        "        if np.random.random() <= law(value) :\n",
        "            result.append(id)\n",
        "    return result\n",
        "\n",
        "def filter_ids(tresh, data):\n",
        "    loi = prob(tresh, int(np.sqrt(tresh)))\n",
        "    to_keep = list(data.index[data['area']>tresh])\n",
        "    for cls in classes :\n",
        "      to_keep = to_keep + sample_from(data.index[ (data['label'] == cls) & (data['area']<=tresh)], data[data['area']<=tresh]['area'], loi)\n",
        "    return data.loc[to_keep]"
      ],
      "execution_count": null,
      "outputs": []
    },
    {
      "cell_type": "markdown",
      "metadata": {
        "id": "mdMcXTC56pFK",
        "colab_type": "text"
      },
      "source": [
        "### Data set embedding"
      ]
    },
    {
      "cell_type": "code",
      "metadata": {
        "id": "5tz0RZ_D6uzm",
        "colab_type": "code",
        "colab": {}
      },
      "source": [
        "class BoxDataSet(Dataset):\n",
        "\n",
        "    def __init__(self, transform, encoder, batch_size, data = None, nb_app = None):\n",
        "        self.labels = 0\n",
        "        if data is None :\n",
        "            self.labels = pd.read_csv(root_dir + str(nb_app) + '_apps/labels.csv', compression = 'zip').set_index('id')\n",
        "        else :\n",
        "            self.labels = data\n",
        "        self.encoder = encoder\n",
        "        self.transform = transform\n",
        "        self.nb_app = nb_app\n",
        "\n",
        "    def __len__(self):\n",
        "        return self.labels.shape[0]\n",
        "\n",
        "    def __getitem__(self, idx):\n",
        "\n",
        "        if torch.is_tensor(idx):\n",
        "            idx = idx.tolist()\n",
        "        id = self.labels.index[idx]\n",
        "        label = torch.FloatTensor(self.encoder.transform([[self.labels.loc[id,'label']]])[0])\n",
        "        img = self.extract_img(id)\n",
        "\n",
        "        sample = {'id':id,'image':img,'label':label}\n",
        "\n",
        "        return sample\n",
        "\n",
        "    def extract_img(self, img_id):\n",
        "        img_name = self.find(str(img_id) + '.png', root_dir)\n",
        "        try:\n",
        "          img = Image.open(img_name) # open the image file\n",
        "          img.verify() # verify that it is, in fact an image\n",
        "          img.close()\n",
        "        except (IOError, SyntaxError) as e:\n",
        "          print('Bad file:', img_name)\n",
        "        img =  np.array(Image.open(img_name).convert(\"RGB\"))\n",
        "        img = torch.as_tensor(self.transform(img))[:,-4850:,:]\n",
        "        return img\n",
        "\n",
        "    def find(self, name, path):\n",
        "        for root, _, files in os.walk(path):\n",
        "            if name in files:\n",
        "                return os.path.join(root, name)"
      ],
      "execution_count": null,
      "outputs": []
    },
    {
      "cell_type": "markdown",
      "metadata": {
        "id": "pcBPPGjA8NMC",
        "colab_type": "text"
      },
      "source": [
        "#### Data preprocessing"
      ]
    },
    {
      "cell_type": "code",
      "metadata": {
        "id": "0IcrFW_p8RI5",
        "colab_type": "code",
        "colab": {}
      },
      "source": [
        "normalize = transforms.Normalize(mean=[0.485, 0.456, 0.406], std=[0.229, 0.224, 0.225])\n",
        "transform_image = transforms.Compose([transforms.ToTensor(),normalize])"
      ],
      "execution_count": null,
      "outputs": []
    },
    {
      "cell_type": "markdown",
      "metadata": {
        "id": "p_mSE9hP7_Sy",
        "colab_type": "text"
      },
      "source": [
        "#### Vizualisation"
      ]
    },
    {
      "cell_type": "code",
      "metadata": {
        "id": "dyJQmIQX79sq",
        "colab_type": "code",
        "colab": {}
      },
      "source": [
        "def imshow(inp, title=None):\n",
        "#   Imshow for Tensor.\n",
        "    inp = inp.numpy().transpose((1, 2, 0))\n",
        "    mean = np.array([0.485, 0.456, 0.406])\n",
        "    std = np.array([0.229, 0.224, 0.225])\n",
        "    inp = np.clip(std * inp + mean, 0,1)\n",
        "    plt.figure(figsize = (40,8) )\n",
        "    plt.imshow(inp)\n",
        "    if title is not None:\n",
        "        plt.title(title)\n",
        "    plt.pause(0.001)"
      ],
      "execution_count": null,
      "outputs": []
    },
    {
      "cell_type": "markdown",
      "metadata": {
        "id": "tlzIw6st7zS2",
        "colab_type": "text"
      },
      "source": [
        "#### Test data loading"
      ]
    },
    {
      "cell_type": "code",
      "metadata": {
        "id": "ZQI_h4wU7335",
        "colab_type": "code",
        "colab": {
          "base_uri": "https://localhost:8080/",
          "height": 499
        },
        "outputId": "841b111f-e618-4d10-a55a-e7adb850fb07"
      },
      "source": [
        "test_set = BoxDataSet(transform=transform_image, encoder = lab_encoder, batch_size = 1, nb_app=2)\n",
        "test_loader = DataLoader(test_set, batch_size = 1, shuffle=True, num_workers = 1)\n",
        "\n",
        "batch_test = next(iter(test_loader))\n",
        "out = torchvision.utils.make_grid(batch_test['image'])\n",
        "imshow(out, title=[lab_encoder.inverse_transform([batch_test['label'][x].numpy()])[0][0]for x in range(1)])"
      ],
      "execution_count": null,
      "outputs": [
        {
          "output_type": "display_data",
          "data": {
            "image/png": "[encoded data removed]",
            "text/plain": [
              "<Figure size 2880x576 with 1 Axes>"
            ]
          },
          "metadata": {
            "tags": [],
            "needs_background": "light"
          }
        }
      ]
    },
    {
      "cell_type": "markdown",
      "metadata": {
        "id": "xQiKBjh09mZ_",
        "colab_type": "text"
      },
      "source": [
        "### Using GPU"
      ]
    },
    {
      "cell_type": "code",
      "metadata": {
        "id": "o_jeg_o882yG",
        "colab_type": "code",
        "colab": {
          "base_uri": "https://localhost:8080/",
          "height": 34
        },
        "outputId": "dfc2cef0-81a2-4a68-85f5-c36604026ab7"
      },
      "source": [
        "device = torch.device(\"cuda:0\" if torch.cuda.is_available() else \"cpu\")\n",
        "print('Using gpu: %s ' % torch.cuda.is_available())"
      ],
      "execution_count": null,
      "outputs": [
        {
          "output_type": "stream",
          "text": [
            "Using gpu: True \n"
          ],
          "name": "stdout"
        }
      ]
    },
    {
      "cell_type": "markdown",
      "metadata": {
        "id": "rH--XRBjKG6F",
        "colab_type": "text"
      },
      "source": [
        "# Features precomputing\n"
      ]
    },
    {
      "cell_type": "code",
      "metadata": {
        "id": "ejMfdNE0LI3c",
        "colab_type": "code",
        "colab": {
          "base_uri": "https://localhost:8080/",
          "height": 84,
          "referenced_widgets": [
            "57a46c6f011e4f87a2afc79cf88f77ea",
            "55a46c937bde4483a597991ab5743f2f",
            "cc98d311abaa4870a0e23d14d7bbbc7f",
            "ccfdb609a1f4445fa33eca90282c02f3",
            "071a591bb2c1403ebbc55fb2b4706839",
            "73d6ad3674304c009f5256f50fd8c0d8",
            "410a834c33604124a87e5efb6270e94e",
            "a973f17f53fb441eac482022d01613dd"
          ]
        },
        "outputId": "bff7eba7-8519-49d7-c8ed-25f31f8bb2c6"
      },
      "source": [
        "#Model used for computing the features\n",
        "pretrained_model = models.resnet50(pretrained = True).to(device)\n",
        "pretrained_model_feats = nn.Sequential(*list(pretrained_model.children())[:-1])\n",
        "for param in pretrained_model_feats.parameters():\n",
        "    param.requires_grad = False"
      ],
      "execution_count": null,
      "outputs": [
        {
          "output_type": "stream",
          "text": [
            "Downloading: \"https://download.pytorch.org/models/resnet18-5c106cde.pth\" to /root/.cache/torch/checkpoints/resnet18-5c106cde.pth\n"
          ],
          "name": "stderr"
        },
        {
          "output_type": "display_data",
          "data": {
            "application/vnd.jupyter.widget-view+json": {
              "model_id": "57a46c6f011e4f87a2afc79cf88f77ea",
              "version_minor": 0,
              "version_major": 2
            },
            "text/plain": [
              "HBox(children=(FloatProgress(value=0.0, max=46827520.0), HTML(value='')))"
            ]
          },
          "metadata": {
            "tags": []
          }
        },
        {
          "output_type": "stream",
          "text": [
            "\n"
          ],
          "name": "stdout"
        }
      ]
    },
    {
      "cell_type": "code",
      "metadata": {
        "id": "rhxPrcOOKL7C",
        "colab_type": "code",
        "colab": {}
      },
      "source": [
        "def preconvfeat(data):\n",
        "    inputs = data['image'].to(device)\n",
        "    labels = data['label'].to(device)\n",
        "    ids = data['id'].to(device)\n",
        "    x = pretrained_model_feats(inputs)\n",
        "    return x.data.cpu().numpy(), labels.data.cpu().numpy(), ids.data.cpu().numpy()\n",
        "\n"
      ],
      "execution_count": null,
      "outputs": []
    },
    {
      "cell_type": "code",
      "metadata": {
        "id": "uBiGxdMxlm0M",
        "colab_type": "code",
        "colab": {}
      },
      "source": [
        "def get_precomputed_dset(nb_app, num_file = 1, save = False):\n",
        "    dset = BoxDataSet(transform=transform_image, encoder = lab_encoder, batch_size = 1, nb_app = nb_app)\n",
        "    loader = DataLoader(dset, batch_size = 1, shuffle= False, num_workers = 1)\n",
        "    print(\"Precomputing features...\")\n",
        "\n",
        "    conv_features = []\n",
        "    labels_list = []\n",
        "    ids_list = []\n",
        "\n",
        "    N = len(loader)\n",
        "    sub_file_size = N//num_file\n",
        "\n",
        "    k=  1\n",
        "    i = 1\n",
        "    for data in loader:\n",
        "        print(\"\\r {}%\".format(np.round(100*k/N, decimals = 2)), end  = '')\n",
        "\n",
        "        feats, labs, ids = preconvfeat(data)\n",
        "        conv_features.extend(feats)\n",
        "        labels_list.extend(labs)\n",
        "        ids_list.extend(ids)\n",
        "\n",
        "\n",
        "        if save and k%sub_file_size == 0 :\n",
        "            conv_features = np.concatenate([[feat] for feat in conv_features])\n",
        "            datasetfeat = [[torch.from_numpy(f).type(torch.float),torch.tensor(l).type(torch.float), i] for (f,l,i) in zip(conv_features, labels_list, ids_list)]\n",
        "            datasetfeat = [(inputs.reshape(-1), labels, ids) for [inputs,labels, ids] in datasetfeat]\n",
        "            features = pd.DataFrame([f[0] for f in datasetfeat]).astype(float)\n",
        "            ids = pd.Series([f[2] for f in datasetfeat])\n",
        "            to_save = pd.concat([features, ids], axis = 1)\n",
        "            to_save.columns = list(to_save.columns[:-1])+['id']\n",
        "            file_name = \"precomputed_ResNet50_\"+str(nb_app) + \"apps_part\"+str(i)+\".csv\"\n",
        "            to_save.to_csv(file_name, index = False, compression = 'zip')\n",
        "            #files.download(file_name)\n",
        "\n",
        "            i+=1\n",
        "            conv_features = []\n",
        "            labels_list = []\n",
        "            ids_list = []\n",
        "\n",
        "        k+=1\n",
        "\n",
        "    if save :\n",
        "        if len(conv_features)!= 0 :\n",
        "            conv_features = np.concatenate([[feat] for feat in conv_features])\n",
        "            datasetfeat = [[torch.from_numpy(f).type(torch.float),torch.tensor(l).type(torch.float), i] for (f,l,i) in zip(conv_features, labels_list, ids_list)]\n",
        "            datasetfeat = [(inputs.reshape(-1), labels, ids) for [inputs,labels, ids] in datasetfeat]\n",
        "            features = pd.DataFrame([f[0] for f in datasetfeat]).astype(float)\n",
        "            ids = pd.Series([f[2] for f in datasetfeat])\n",
        "            to_save = pd.concat([features, ids], axis = 1)\n",
        "            to_save.columns = list(to_save.columns[:-1])+['id']\n",
        "            file_name = \"precomputed_ResNet50_\"+str(nb_app) + \"apps_part\"+str(i)+\".csv\"\n",
        "            to_save.to_csv(file_name, index = False, compression = 'zip')\n",
        "            #files.download(file_name)\n",
        "        return 0\n",
        "\n",
        "    else :\n",
        "        conv_features = np.concatenate([[feat] for feat in conv_features])\n",
        "        datasetfeat = [[torch.from_numpy(f).type(torch.float),torch.tensor(l).type(torch.float), i] for (f,l,i) in zip(conv_features, labels_list, ids_list)]\n",
        "        datasetfeat = [(inputs.reshape(-1), labels, ids) for [inputs,labels, ids] in datasetfeat]\n",
        "        return datasetfeat\n"
      ],
      "execution_count": null,
      "outputs": []
    },
    {
      "cell_type": "code",
      "metadata": {
        "id": "valDBYBlTTyq",
        "colab_type": "code",
        "colab": {}
      },
      "source": [
        "def find(name, path):\n",
        "        for root, _, files in os.walk(path):\n",
        "            if name in files:\n",
        "                return os.path.join(root, name)\n",
        "\n",
        "def load_precomputed_dset(model, nb_app = None):\n",
        "    mother_dir = root_dir + \"Precomputed_feats/\"\n",
        "\n",
        "    if model == \"resnet18\" :\n",
        "      \n",
        "      file_name = find(\"precomputed_ResNet18_2apps.csv\", root_dir)\n",
        "\n",
        "      if file_name is not None :\n",
        "        df =  pd.read_csv(file_name, compression = 'zip').set_index('id')\n",
        "        labels = pd.read_csv(root_dir + str(2) + '_apps/labels.csv', compression = 'zip').set_index('id')\n",
        "        df['label'] = labels.loc[df.index, 'label']\n",
        "        return df\n",
        "      else :\n",
        "        %cd customNILMdataSet/Precomputed_feats/precomputed_ResNet18_2apps/\n",
        "        !cat precomputed_ResNet18_2apps.csv.part* > precomputed_ResNet18_2apps.csv\n",
        "        %cd ../../..\n",
        "        return load_precomputed_dset(\"resnet18\")\n",
        "\n",
        "    if model == \"resnet50\" :\n",
        "\n",
        "      if type(nb_app) == list :\n",
        "        return pd.concat([load_precomputed_dset(model,x) for x in nb_app], axis = 0)\n",
        "\n",
        "      else :\n",
        "        mother_dir = mother_dir + \"resnet_50/\" + str(nb_app) + \"_apps/\"\n",
        "        files = glob.glob(mother_dir + \"*.csv\")\n",
        "        dfs = []\n",
        "        for f in files :\n",
        "          df = pd.read_csv(f, compression = 'zip').set_index('id')\n",
        "          labels = pd.read_csv(root_dir + str(nb_app) + '_apps/labels.csv', compression = 'zip').set_index('id')\n",
        "          df['label'] = labels.loc[df.index, 'label']\n",
        "          dfs.append(df)\n",
        "        return pd.concat(dfs, axis = 0)\n",
        "\n",
        "def convert_to_usable_dset(df):\n",
        "    labels = [torch.tensor(lab_encoder.transform([[lab]])[0]).type(torch.float) for lab in df['label']]\n",
        "    del df['label']\n",
        "    inputs = [torch.from_numpy(df.loc[idx].to_numpy()).type(torch.float) for idx in df.index]\n",
        "    return [(f,l,id) for f,l,id in zip(inputs, labels, df.index)]"
      ],
      "execution_count": null,
      "outputs": []
    },
    {
      "cell_type": "markdown",
      "metadata": {
        "id": "g4d5O-_4-ZxI",
        "colab_type": "text"
      },
      "source": [
        "# Model creation"
      ]
    },
    {
      "cell_type": "code",
      "metadata": {
        "id": "ge3Z4qCe9wQO",
        "colab_type": "code",
        "colab": {}
      },
      "source": [
        "class BoxNet(nn.Module):\n",
        "    \n",
        "    def __init__(self, output_size):\n",
        "        super(BoxNet, self).__init__()\n",
        "        self.output_size = output_size\n",
        "\n",
        "        self.res_1 = nn.Sequential(nn.Dropout(inplace=False),\n",
        "                                nn.Linear(2048, 2048),\n",
        "                                nn.ReLU(inplace=True),\n",
        "                                nn.BatchNorm1d(2048))\n",
        "        \n",
        "        self.res_2 = nn.Sequential(nn.Dropout(inplace=False),\n",
        "                                nn.Linear(2048, 2048),\n",
        "                                nn.ReLU(inplace=True),\n",
        "                                nn.BatchNorm1d(2048))\n",
        "        \n",
        "        self.res_3 = nn.Sequential(nn.Dropout(inplace=False),\n",
        "                                nn.Linear(2048, 2048),\n",
        "                                nn.ReLU(inplace=True),\n",
        "                                nn.BatchNorm1d(2048))\n",
        "        \n",
        "        self.res_4 = nn.Sequential(nn.Dropout(inplace=False),\n",
        "                                nn.Linear(2048, 2048),\n",
        "                                nn.ReLU(inplace=True),\n",
        "                                nn.BatchNorm1d(2048))\n",
        "        \n",
        "        self.res_5 = nn.Sequential(nn.Dropout(inplace=False),\n",
        "                                nn.Linear(2048, 2048),\n",
        "                                nn.ReLU(inplace=True),\n",
        "                                nn.BatchNorm1d(2048))\n",
        "\n",
        "\n",
        "        self.fc = nn.Sequential(nn.Dropout(inplace=False),\n",
        "                                nn.Linear(2048, self.output_size))\n",
        "                                \n",
        "\n",
        "    def forward(self, x):\n",
        "        x = x + self.res_1(x)\n",
        "        x = x + self.res_2(x)\n",
        "        x = x + self.res_3(x)\n",
        "        x = x + self.res_4(x)\n",
        "        x = x + self.res_5(x)\n",
        "        x = self.fc(x)\n",
        "        return x"
      ],
      "execution_count": null,
      "outputs": []
    },
    {
      "cell_type": "markdown",
      "metadata": {
        "id": "E9mbHIBhAD5s",
        "colab_type": "text"
      },
      "source": [
        "# Training and testing loops"
      ]
    },
    {
      "cell_type": "markdown",
      "metadata": {
        "id": "CXlG8nJmseMy",
        "colab_type": "text"
      },
      "source": [
        "## Training"
      ]
    },
    {
      "cell_type": "code",
      "metadata": {
        "id": "omQJF77bAH-r",
        "colab_type": "code",
        "colab": {}
      },
      "source": [
        "def train_model(model,dataloader,size,epochs=1,optimizer=None, scheduler = None):\n",
        "    model.train()\n",
        "    batch_count = 1\n",
        "    loss_mem = []\n",
        "    acc_mem = []\n",
        "    lr_mem = []\n",
        "    for epoch in range(epochs):\n",
        "        running_loss = 0.0\n",
        "        running_corrects = 0\n",
        "        for inputs, targets,_ in dataloader:\n",
        "            #print(\"\\rbatch {}\".format(batch_count), end = '')\n",
        "            batch_count+=1\n",
        "            inputs = inputs.to(device)\n",
        "            targets = targets.to(device)\n",
        "            outputs = model(inputs)\n",
        "            loss = loss_fn(outputs,targets)\n",
        "            optimizer.zero_grad()\n",
        "            loss.backward()\n",
        "            optimizer.step()\n",
        "\n",
        "            _,preds = torch.max(F(outputs.data),1)\n",
        "            # statistics\n",
        "            running_loss += loss.data.item()\n",
        "            _,classs =  torch.max(targets,1)\n",
        "            running_corrects += torch.sum(preds == classs)\n",
        "        epoch_loss = running_loss / size\n",
        "        epoch_acc = running_corrects.data.item() / size\n",
        "        loss_mem.append(epoch_loss)\n",
        "        acc_mem.append(epoch_acc)\n",
        "\n",
        "        scheduler.step(epoch_loss)\n",
        "        lr_mem.append(optimizer.param_groups[0]['lr'])\n",
        "\n",
        "        print('Loss: {:.4f} Acc: {:.4f}'.format(\n",
        "                     epoch_loss, epoch_acc))\n",
        "    return loss_mem, acc_mem, lr_mem"
      ],
      "execution_count": null,
      "outputs": []
    },
    {
      "cell_type": "markdown",
      "metadata": {
        "id": "trnWnnFJsiBQ",
        "colab_type": "text"
      },
      "source": [
        "## Testing"
      ]
    },
    {
      "cell_type": "code",
      "metadata": {
        "id": "iisf73SQsk0y",
        "colab_type": "code",
        "colab": {}
      },
      "source": [
        "def evaluate(target, source):\n",
        "        \"\"\"\n",
        "        Evaluates on all classic metrics the performances of a binary classification.\n",
        "        \"\"\"\n",
        "        tn, fp, fn, tp = confusion_matrix(target, source).ravel()\n",
        "        acc = (tp+tn)/(tn+fp+fn+tp)\n",
        "        rec = tp/(tp+fn)\n",
        "        pre = tp/(tp+fp)\n",
        "        spe = tn/(tn+fp)\n",
        "        f1 = (2*pre*rec)/(pre+rec)\n",
        "        result = pd.Series([acc,rec,pre,spe,f1])\n",
        "        result.index = ['Acc', 'Rec', 'Pre', 'Spe', 'F1']\n",
        "\n",
        "        mat = pd.DataFrame(confusion_matrix(target, source))\n",
        "        mat.columns = pd.MultiIndex(levels = [['Actual'],['Negatives','Positives']], codes = [[0,0],[0,1]])\n",
        "        mat.index = pd.MultiIndex(levels = [['Prediction'],['Negatives','Positives']], codes = [[0,0],[0,1]])\n",
        "        dfStyler = mat.style.set_properties(**{'text-align': 'center'})\n",
        "        dfStyler.set_table_styles([dict(selector='th', props=[('text-align', 'center')])])\n",
        "\n",
        "        return result, mat"
      ],
      "execution_count": null,
      "outputs": []
    },
    {
      "cell_type": "code",
      "metadata": {
        "id": "rtlceEKzoo7c",
        "colab_type": "code",
        "colab": {}
      },
      "source": [
        "def test_model(model, dataloader, size):\n",
        "    model.eval()\n",
        "    predicted = []\n",
        "    gtruth = []\n",
        "    for inputs, targets,_ in dataloader:\n",
        "        \n",
        "        inputs = inputs.to(device)\n",
        "        targets = targets.to(device)\n",
        "        outputs = model(inputs)\n",
        "        \n",
        "        _,preds = torch.max(F(outputs.data),1)\n",
        "        _,classs =  torch.max(targets,1)\n",
        "        predicted.extend(preds.data.cpu().numpy())\n",
        "        gtruth.extend(classs.data.cpu().numpy())\n",
        "        \n",
        "    return predicted, gtruth"
      ],
      "execution_count": null,
      "outputs": []
    },
    {
      "cell_type": "code",
      "metadata": {
        "id": "1ZI7sgCNu5TE",
        "colab_type": "code",
        "colab": {}
      },
      "source": [
        "def eval_predictions(preds, labels):\n",
        "\n",
        "    #stats_per_app\n",
        "    result_per_app = []\n",
        "    encoding_cores = get_encoding_index_corespondances()\n",
        "    for k in pd.Series(labels).drop_duplicates() :\n",
        "        app_name = encoding_cores[str(k)]\n",
        "        source = (np.array(preds) == k)*1\n",
        "        target = (np.array(labels)== k)*1\n",
        "        metrics, conf_matrix = evaluate(target, source)\n",
        "        result_per_app.append((app_name, metrics, conf_matrix))\n",
        "    \n",
        "    #overall_stats\n",
        "    acc = np.sum(np.array(preds) == np.array(labels))\n",
        "    print(\"Overall accuracy : {} \".format(acc/len(preds)))\n",
        "\n",
        "    return result_per_app "
      ],
      "execution_count": null,
      "outputs": []
    },
    {
      "cell_type": "markdown",
      "metadata": {
        "id": "lYBBPZkJATWQ",
        "colab_type": "text"
      },
      "source": [
        "# Instanciating and training\n",
        "\n",
        "In this section, we train and test our model as classic claffication model, without taking into account the achieved reconstituted energy."
      ]
    },
    {
      "cell_type": "code",
      "metadata": {
        "id": "ruGqi2LNCPAP",
        "colab_type": "code",
        "colab": {}
      },
      "source": [
        "nb_outputs_ = len(classes)"
      ],
      "execution_count": null,
      "outputs": []
    },
    {
      "cell_type": "code",
      "metadata": {
        "id": "0TdyXP-9-kmp",
        "colab_type": "code",
        "colab": {}
      },
      "source": [
        "BoxModel = BoxNet(nb_outputs_)"
      ],
      "execution_count": null,
      "outputs": []
    },
    {
      "cell_type": "code",
      "metadata": {
        "id": "XARyYNjv-szv",
        "colab_type": "code",
        "colab": {
          "base_uri": "https://localhost:8080/",
          "height": 642
        },
        "outputId": "d63a55b4-f15e-409f-d198-d16992953d69"
      },
      "source": [
        "F = nn.Sigmoid().to(device)\n",
        "loss_fn = nn.BCEWithLogitsLoss().to(device)\n",
        "batch_size_ = 128\n",
        "lr_ = 0.01\n",
        "optimizer = torch.optim.Adam(BoxModel.parameters(), lr=lr_)\n",
        "scheduler = torch.optim.lr_scheduler.ReduceLROnPlateau(optimizer, mode='min', factor=0.1, patience=10, verbose=False, threshold=0.0001, threshold_mode='rel', cooldown=0, min_lr=0, eps=1e-08)\n",
        "BoxModel.to(device)"
      ],
      "execution_count": null,
      "outputs": [
        {
          "output_type": "execute_result",
          "data": {
            "text/plain": [
              "BoxNet(\n",
              "  (res_1): Sequential(\n",
              "    (0): Dropout(p=0.5, inplace=False)\n",
              "    (1): Linear(in_features=2048, out_features=2048, bias=True)\n",
              "    (2): ReLU(inplace=True)\n",
              "    (3): BatchNorm1d(2048, eps=1e-05, momentum=0.1, affine=True, track_running_stats=True)\n",
              "  )\n",
              "  (res_2): Sequential(\n",
              "    (0): Dropout(p=0.5, inplace=False)\n",
              "    (1): Linear(in_features=2048, out_features=2048, bias=True)\n",
              "    (2): ReLU(inplace=True)\n",
              "    (3): BatchNorm1d(2048, eps=1e-05, momentum=0.1, affine=True, track_running_stats=True)\n",
              "  )\n",
              "  (res_3): Sequential(\n",
              "    (0): Dropout(p=0.5, inplace=False)\n",
              "    (1): Linear(in_features=2048, out_features=2048, bias=True)\n",
              "    (2): ReLU(inplace=True)\n",
              "    (3): BatchNorm1d(2048, eps=1e-05, momentum=0.1, affine=True, track_running_stats=True)\n",
              "  )\n",
              "  (res_4): Sequential(\n",
              "    (0): Dropout(p=0.5, inplace=False)\n",
              "    (1): Linear(in_features=2048, out_features=2048, bias=True)\n",
              "    (2): ReLU(inplace=True)\n",
              "    (3): BatchNorm1d(2048, eps=1e-05, momentum=0.1, affine=True, track_running_stats=True)\n",
              "  )\n",
              "  (res_5): Sequential(\n",
              "    (0): Dropout(p=0.5, inplace=False)\n",
              "    (1): Linear(in_features=2048, out_features=2048, bias=True)\n",
              "    (2): ReLU(inplace=True)\n",
              "    (3): BatchNorm1d(2048, eps=1e-05, momentum=0.1, affine=True, track_running_stats=True)\n",
              "  )\n",
              "  (fc): Sequential(\n",
              "    (0): Dropout(p=0.5, inplace=False)\n",
              "    (1): Linear(in_features=2048, out_features=4, bias=True)\n",
              "  )\n",
              ")"
            ]
          },
          "metadata": {
            "tags": []
          },
          "execution_count": 33
        }
      ]
    },
    {
      "cell_type": "code",
      "metadata": {
        "id": "ydSjRf9KSPR6",
        "colab_type": "code",
        "colab": {
          "base_uri": "https://localhost:8080/",
          "height": 34
        },
        "outputId": "502a2c81-4449-4787-edff-29619c69d103"
      },
      "source": [
        "datas = pd.concat([import_labels(k) for k in range(2,8)], axis = 0)\n",
        "datas = class_select(datas)\n",
        "datas = filter_ids(tresh = 100, data = datas)\n",
        "datas = downsampling(datas, max_over_rep= 1.3)\n",
        "print(datas.shape)"
      ],
      "execution_count": null,
      "outputs": [
        {
          "output_type": "stream",
          "text": [
            "(11211, 2)\n"
          ],
          "name": "stdout"
        }
      ]
    },
    {
      "cell_type": "code",
      "metadata": {
        "id": "CXFbOpa-Di_Y",
        "colab_type": "code",
        "colab": {}
      },
      "source": [
        "resnet50 = load_precomputed_dset(\"resnet50\", nb_app = [k for k in range(2,8)])\n",
        "resnet50 = resnet50.loc[datas.index.intersection(resnet50.index)]\n",
        "resnet50 = convert_to_usable_dset(resnet50)\n",
        "np.random.shuffle(resnet50)"
      ],
      "execution_count": null,
      "outputs": []
    },
    {
      "cell_type": "code",
      "metadata": {
        "id": "boxJVa_9nN5z",
        "colab_type": "code",
        "colab": {}
      },
      "source": [
        "train_2apps = resnet50[:int(len(resnet50)*0.8)]\n",
        "valid_2apps = resnet50[int(len(resnet50)*0.8):]"
      ],
      "execution_count": null,
      "outputs": []
    },
    {
      "cell_type": "code",
      "metadata": {
        "id": "S5YrtqCSm6oj",
        "colab_type": "code",
        "colab": {}
      },
      "source": [
        "trainLoader_2apps = DataLoader(train_2apps, batch_size = batch_size_ , shuffle = True, drop_last = True)\n",
        "validLoader_2apps = DataLoader(valid_2apps, batch_size = batch_size_, shuffle = False, drop_last = True)"
      ],
      "execution_count": null,
      "outputs": []
    },
    {
      "cell_type": "code",
      "metadata": {
        "id": "loAxoj50EJ0q",
        "colab_type": "code",
        "colab": {
          "base_uri": "https://localhost:8080/",
          "height": 1000
        },
        "outputId": "bc84fbe4-c0d6-4deb-a82b-d734b9f8478b"
      },
      "source": [
        "loss_mem, acc_mem, lr_mem = train_model(BoxModel,dataloader = trainLoader_2apps, size = len(train_2apps),epochs=500,optimizer=optimizer, scheduler = scheduler)"
      ],
      "execution_count": null,
      "outputs": [
        {
          "output_type": "stream",
          "text": [
            "Loss: 0.0110 Acc: 0.3176\n",
            "Loss: 0.0068 Acc: 0.3485\n",
            "Loss: 0.0063 Acc: 0.3591\n",
            "Loss: 0.0063 Acc: 0.3617\n",
            "Loss: 0.0055 Acc: 0.3861\n",
            "Loss: 0.0051 Acc: 0.3874\n",
            "Loss: 0.0049 Acc: 0.3878\n",
            "Loss: 0.0049 Acc: 0.3910\n",
            "Loss: 0.0048 Acc: 0.3924\n",
            "Loss: 0.0046 Acc: 0.4134\n",
            "Loss: 0.0044 Acc: 0.4204\n",
            "Loss: 0.0044 Acc: 0.4291\n",
            "Loss: 0.0044 Acc: 0.4218\n",
            "Loss: 0.0042 Acc: 0.4347\n",
            "Loss: 0.0043 Acc: 0.4367\n",
            "Loss: 0.0041 Acc: 0.4485\n",
            "Loss: 0.0042 Acc: 0.4446\n",
            "Loss: 0.0042 Acc: 0.4508\n",
            "Loss: 0.0041 Acc: 0.4611\n",
            "Loss: 0.0040 Acc: 0.4677\n",
            "Loss: 0.0040 Acc: 0.4776\n",
            "Loss: 0.0040 Acc: 0.4773\n",
            "Loss: 0.0040 Acc: 0.4830\n",
            "Loss: 0.0039 Acc: 0.5022\n",
            "Loss: 0.0038 Acc: 0.5067\n",
            "Loss: 0.0038 Acc: 0.5131\n",
            "Loss: 0.0037 Acc: 0.5350\n",
            "Loss: 0.0037 Acc: 0.5408\n",
            "Loss: 0.0036 Acc: 0.5504\n",
            "Loss: 0.0036 Acc: 0.5545\n",
            "Loss: 0.0035 Acc: 0.5748\n",
            "Loss: 0.0035 Acc: 0.5697\n",
            "Loss: 0.0036 Acc: 0.5688\n",
            "Loss: 0.0035 Acc: 0.5787\n",
            "Loss: 0.0034 Acc: 0.5830\n",
            "Loss: 0.0033 Acc: 0.6067\n",
            "Loss: 0.0034 Acc: 0.5921\n",
            "Loss: 0.0033 Acc: 0.6055\n",
            "Loss: 0.0033 Acc: 0.6035\n",
            "Loss: 0.0034 Acc: 0.5958\n",
            "Loss: 0.0033 Acc: 0.6087\n",
            "Loss: 0.0036 Acc: 0.5540\n",
            "Loss: 0.0035 Acc: 0.5756\n",
            "Loss: 0.0033 Acc: 0.5975\n",
            "Loss: 0.0033 Acc: 0.5988\n",
            "Loss: 0.0033 Acc: 0.6030\n",
            "Loss: 0.0033 Acc: 0.6088\n",
            "Loss: 0.0032 Acc: 0.6186\n",
            "Loss: 0.0033 Acc: 0.6021\n",
            "Loss: 0.0032 Acc: 0.6205\n",
            "Loss: 0.0032 Acc: 0.6223\n",
            "Loss: 0.0032 Acc: 0.6174\n",
            "Loss: 0.0032 Acc: 0.6231\n",
            "Loss: 0.0031 Acc: 0.6385\n",
            "Loss: 0.0032 Acc: 0.6154\n",
            "Loss: 0.0032 Acc: 0.6206\n",
            "Loss: 0.0030 Acc: 0.6392\n",
            "Loss: 0.0032 Acc: 0.6262\n",
            "Loss: 0.0034 Acc: 0.5931\n",
            "Loss: 0.0033 Acc: 0.6118\n",
            "Loss: 0.0033 Acc: 0.6077\n",
            "Loss: 0.0032 Acc: 0.6216\n",
            "Loss: 0.0032 Acc: 0.6300\n",
            "Loss: 0.0033 Acc: 0.6185\n",
            "Loss: 0.0035 Acc: 0.5873\n",
            "Loss: 0.0037 Acc: 0.5603\n",
            "Loss: 0.0035 Acc: 0.5836\n",
            "Loss: 0.0036 Acc: 0.5644\n",
            "Loss: 0.0035 Acc: 0.5780\n",
            "Loss: 0.0033 Acc: 0.5977\n",
            "Loss: 0.0032 Acc: 0.6067\n",
            "Loss: 0.0031 Acc: 0.6239\n",
            "Loss: 0.0031 Acc: 0.6341\n",
            "Loss: 0.0030 Acc: 0.6373\n",
            "Loss: 0.0030 Acc: 0.6471\n",
            "Loss: 0.0029 Acc: 0.6419\n",
            "Loss: 0.0029 Acc: 0.6555\n",
            "Loss: 0.0028 Acc: 0.6648\n",
            "Loss: 0.0028 Acc: 0.6646\n",
            "Loss: 0.0028 Acc: 0.6734\n",
            "Loss: 0.0028 Acc: 0.6714\n",
            "Loss: 0.0028 Acc: 0.6727\n",
            "Loss: 0.0027 Acc: 0.6868\n",
            "Loss: 0.0027 Acc: 0.6796\n",
            "Loss: 0.0027 Acc: 0.6877\n",
            "Loss: 0.0026 Acc: 0.6911\n",
            "Loss: 0.0026 Acc: 0.6899\n",
            "Loss: 0.0026 Acc: 0.6992\n",
            "Loss: 0.0026 Acc: 0.7034\n",
            "Loss: 0.0026 Acc: 0.7030\n",
            "Loss: 0.0025 Acc: 0.7051\n",
            "Loss: 0.0025 Acc: 0.7098\n",
            "Loss: 0.0025 Acc: 0.7057\n",
            "Loss: 0.0025 Acc: 0.7104\n",
            "Loss: 0.0025 Acc: 0.7084\n",
            "Loss: 0.0025 Acc: 0.7146\n",
            "Loss: 0.0025 Acc: 0.7180\n",
            "Loss: 0.0025 Acc: 0.7163\n",
            "Loss: 0.0024 Acc: 0.7204\n",
            "Loss: 0.0024 Acc: 0.7198\n",
            "Loss: 0.0024 Acc: 0.7201\n",
            "Loss: 0.0024 Acc: 0.7258\n",
            "Loss: 0.0024 Acc: 0.7256\n",
            "Loss: 0.0024 Acc: 0.7255\n",
            "Loss: 0.0023 Acc: 0.7289\n",
            "Loss: 0.0023 Acc: 0.7350\n",
            "Loss: 0.0023 Acc: 0.7325\n",
            "Loss: 0.0023 Acc: 0.7262\n",
            "Loss: 0.0023 Acc: 0.7378\n",
            "Loss: 0.0023 Acc: 0.7317\n",
            "Loss: 0.0023 Acc: 0.7358\n",
            "Loss: 0.0023 Acc: 0.7418\n",
            "Loss: 0.0023 Acc: 0.7390\n",
            "Loss: 0.0022 Acc: 0.7437\n",
            "Loss: 0.0023 Acc: 0.7488\n",
            "Loss: 0.0022 Acc: 0.7457\n",
            "Loss: 0.0022 Acc: 0.7508\n",
            "Loss: 0.0022 Acc: 0.7479\n",
            "Loss: 0.0022 Acc: 0.7494\n",
            "Loss: 0.0022 Acc: 0.7555\n",
            "Loss: 0.0022 Acc: 0.7536\n",
            "Loss: 0.0021 Acc: 0.7596\n",
            "Loss: 0.0021 Acc: 0.7569\n",
            "Loss: 0.0021 Acc: 0.7600\n",
            "Loss: 0.0021 Acc: 0.7590\n",
            "Loss: 0.0021 Acc: 0.7602\n",
            "Loss: 0.0021 Acc: 0.7699\n",
            "Loss: 0.0020 Acc: 0.7697\n",
            "Loss: 0.0021 Acc: 0.7644\n",
            "Loss: 0.0020 Acc: 0.7717\n",
            "Loss: 0.0021 Acc: 0.7689\n",
            "Loss: 0.0021 Acc: 0.7690\n",
            "Loss: 0.0021 Acc: 0.7691\n",
            "Loss: 0.0020 Acc: 0.7764\n",
            "Loss: 0.0020 Acc: 0.7803\n",
            "Loss: 0.0020 Acc: 0.7760\n",
            "Loss: 0.0020 Acc: 0.7795\n",
            "Loss: 0.0019 Acc: 0.7876\n",
            "Loss: 0.0019 Acc: 0.7886\n",
            "Loss: 0.0019 Acc: 0.7854\n",
            "Loss: 0.0019 Acc: 0.7905\n",
            "Loss: 0.0019 Acc: 0.7875\n",
            "Loss: 0.0019 Acc: 0.7828\n",
            "Loss: 0.0018 Acc: 0.7955\n",
            "Loss: 0.0019 Acc: 0.7988\n",
            "Loss: 0.0019 Acc: 0.7927\n",
            "Loss: 0.0018 Acc: 0.8035\n",
            "Loss: 0.0019 Acc: 0.7936\n",
            "Loss: 0.0018 Acc: 0.8059\n",
            "Loss: 0.0018 Acc: 0.8030\n",
            "Loss: 0.0018 Acc: 0.8010\n",
            "Loss: 0.0018 Acc: 0.8001\n",
            "Loss: 0.0018 Acc: 0.8068\n",
            "Loss: 0.0017 Acc: 0.8094\n",
            "Loss: 0.0017 Acc: 0.8148\n",
            "Loss: 0.0017 Acc: 0.8173\n",
            "Loss: 0.0017 Acc: 0.8113\n",
            "Loss: 0.0017 Acc: 0.8133\n",
            "Loss: 0.0017 Acc: 0.8127\n",
            "Loss: 0.0017 Acc: 0.8128\n",
            "Loss: 0.0017 Acc: 0.8182\n",
            "Loss: 0.0016 Acc: 0.8211\n",
            "Loss: 0.0017 Acc: 0.8184\n",
            "Loss: 0.0016 Acc: 0.8230\n",
            "Loss: 0.0016 Acc: 0.8250\n",
            "Loss: 0.0016 Acc: 0.8260\n",
            "Loss: 0.0016 Acc: 0.8319\n",
            "Loss: 0.0016 Acc: 0.8287\n",
            "Loss: 0.0015 Acc: 0.8373\n",
            "Loss: 0.0016 Acc: 0.8261\n",
            "Loss: 0.0015 Acc: 0.8358\n",
            "Loss: 0.0015 Acc: 0.8318\n",
            "Loss: 0.0016 Acc: 0.8354\n",
            "Loss: 0.0015 Acc: 0.8374\n",
            "Loss: 0.0015 Acc: 0.8344\n",
            "Loss: 0.0015 Acc: 0.8408\n",
            "Loss: 0.0015 Acc: 0.8358\n",
            "Loss: 0.0015 Acc: 0.8450\n",
            "Loss: 0.0014 Acc: 0.8450\n",
            "Loss: 0.0015 Acc: 0.8393\n",
            "Loss: 0.0014 Acc: 0.8437\n",
            "Loss: 0.0014 Acc: 0.8444\n",
            "Loss: 0.0014 Acc: 0.8475\n",
            "Loss: 0.0014 Acc: 0.8446\n",
            "Loss: 0.0014 Acc: 0.8467\n",
            "Loss: 0.0014 Acc: 0.8529\n",
            "Loss: 0.0014 Acc: 0.8521\n",
            "Loss: 0.0014 Acc: 0.8523\n",
            "Loss: 0.0014 Acc: 0.8549\n",
            "Loss: 0.0013 Acc: 0.8600\n",
            "Loss: 0.0013 Acc: 0.8568\n",
            "Loss: 0.0013 Acc: 0.8620\n",
            "Loss: 0.0013 Acc: 0.8632\n",
            "Loss: 0.0013 Acc: 0.8637\n",
            "Loss: 0.0013 Acc: 0.8661\n",
            "Loss: 0.0013 Acc: 0.8610\n",
            "Loss: 0.0013 Acc: 0.8685\n",
            "Loss: 0.0013 Acc: 0.8657\n",
            "Loss: 0.0012 Acc: 0.8693\n",
            "Loss: 0.0013 Acc: 0.8632\n",
            "Loss: 0.0012 Acc: 0.8675\n",
            "Loss: 0.0012 Acc: 0.8721\n",
            "Loss: 0.0012 Acc: 0.8708\n",
            "Loss: 0.0012 Acc: 0.8686\n",
            "Loss: 0.0012 Acc: 0.8750\n",
            "Loss: 0.0012 Acc: 0.8743\n",
            "Loss: 0.0012 Acc: 0.8767\n",
            "Loss: 0.0012 Acc: 0.8776\n",
            "Loss: 0.0012 Acc: 0.8761\n",
            "Loss: 0.0012 Acc: 0.8750\n",
            "Loss: 0.0012 Acc: 0.8788\n",
            "Loss: 0.0012 Acc: 0.8763\n",
            "Loss: 0.0012 Acc: 0.8786\n",
            "Loss: 0.0012 Acc: 0.8752\n",
            "Loss: 0.0011 Acc: 0.8880\n",
            "Loss: 0.0011 Acc: 0.8835\n",
            "Loss: 0.0011 Acc: 0.8806\n",
            "Loss: 0.0011 Acc: 0.8897\n",
            "Loss: 0.0011 Acc: 0.8860\n",
            "Loss: 0.0011 Acc: 0.8806\n",
            "Loss: 0.0011 Acc: 0.8887\n",
            "Loss: 0.0011 Acc: 0.8899\n",
            "Loss: 0.0011 Acc: 0.8890\n",
            "Loss: 0.0011 Acc: 0.8862\n",
            "Loss: 0.0010 Acc: 0.8914\n",
            "Loss: 0.0011 Acc: 0.8890\n",
            "Loss: 0.0010 Acc: 0.8920\n",
            "Loss: 0.0011 Acc: 0.8879\n",
            "Loss: 0.0010 Acc: 0.8945\n",
            "Loss: 0.0010 Acc: 0.8992\n",
            "Loss: 0.0010 Acc: 0.8910\n",
            "Loss: 0.0010 Acc: 0.8934\n",
            "Loss: 0.0010 Acc: 0.8940\n",
            "Loss: 0.0010 Acc: 0.8934\n",
            "Loss: 0.0010 Acc: 0.8929\n",
            "Loss: 0.0010 Acc: 0.8976\n",
            "Loss: 0.0010 Acc: 0.8983\n",
            "Loss: 0.0010 Acc: 0.8965\n",
            "Loss: 0.0010 Acc: 0.9005\n",
            "Loss: 0.0010 Acc: 0.9002\n",
            "Loss: 0.0009 Acc: 0.9027\n",
            "Loss: 0.0010 Acc: 0.9014\n",
            "Loss: 0.0009 Acc: 0.9035\n",
            "Loss: 0.0010 Acc: 0.8968\n",
            "Loss: 0.0010 Acc: 0.8993\n",
            "Loss: 0.0009 Acc: 0.9031\n",
            "Loss: 0.0010 Acc: 0.8998\n",
            "Loss: 0.0009 Acc: 0.9021\n",
            "Loss: 0.0009 Acc: 0.9036\n",
            "Loss: 0.0009 Acc: 0.9066\n",
            "Loss: 0.0009 Acc: 0.9051\n",
            "Loss: 0.0009 Acc: 0.9098\n",
            "Loss: 0.0009 Acc: 0.9079\n",
            "Loss: 0.0009 Acc: 0.9118\n",
            "Loss: 0.0009 Acc: 0.9094\n",
            "Loss: 0.0009 Acc: 0.9102\n",
            "Loss: 0.0009 Acc: 0.9103\n",
            "Loss: 0.0009 Acc: 0.9144\n",
            "Loss: 0.0009 Acc: 0.9107\n",
            "Loss: 0.0009 Acc: 0.9128\n",
            "Loss: 0.0009 Acc: 0.9112\n",
            "Loss: 0.0008 Acc: 0.9140\n",
            "Loss: 0.0009 Acc: 0.9154\n",
            "Loss: 0.0008 Acc: 0.9170\n",
            "Loss: 0.0008 Acc: 0.9177\n",
            "Loss: 0.0009 Acc: 0.9137\n",
            "Loss: 0.0008 Acc: 0.9159\n",
            "Loss: 0.0008 Acc: 0.9158\n",
            "Loss: 0.0008 Acc: 0.9136\n",
            "Loss: 0.0008 Acc: 0.9205\n",
            "Loss: 0.0008 Acc: 0.9137\n",
            "Loss: 0.0009 Acc: 0.9144\n",
            "Loss: 0.0009 Acc: 0.9141\n",
            "Loss: 0.0008 Acc: 0.9198\n",
            "Loss: 0.0008 Acc: 0.9178\n",
            "Loss: 0.0008 Acc: 0.9187\n",
            "Loss: 0.0008 Acc: 0.9188\n",
            "Loss: 0.0008 Acc: 0.9218\n",
            "Loss: 0.0008 Acc: 0.9168\n",
            "Loss: 0.0008 Acc: 0.9197\n",
            "Loss: 0.0008 Acc: 0.9141\n",
            "Loss: 0.0008 Acc: 0.9249\n",
            "Loss: 0.0008 Acc: 0.9239\n",
            "Loss: 0.0008 Acc: 0.9207\n",
            "Loss: 0.0007 Acc: 0.9257\n",
            "Loss: 0.0008 Acc: 0.9225\n",
            "Loss: 0.0008 Acc: 0.9248\n",
            "Loss: 0.0007 Acc: 0.9253\n",
            "Loss: 0.0008 Acc: 0.9223\n",
            "Loss: 0.0007 Acc: 0.9272\n",
            "Loss: 0.0008 Acc: 0.9210\n",
            "Loss: 0.0008 Acc: 0.9235\n",
            "Loss: 0.0007 Acc: 0.9252\n",
            "Loss: 0.0007 Acc: 0.9247\n",
            "Loss: 0.0007 Acc: 0.9289\n",
            "Loss: 0.0008 Acc: 0.9240\n",
            "Loss: 0.0007 Acc: 0.9270\n",
            "Loss: 0.0007 Acc: 0.9258\n",
            "Loss: 0.0008 Acc: 0.9239\n",
            "Loss: 0.0007 Acc: 0.9270\n",
            "Loss: 0.0007 Acc: 0.9286\n",
            "Loss: 0.0007 Acc: 0.9286\n",
            "Loss: 0.0007 Acc: 0.9292\n",
            "Loss: 0.0007 Acc: 0.9292\n",
            "Loss: 0.0007 Acc: 0.9256\n",
            "Loss: 0.0007 Acc: 0.9273\n",
            "Loss: 0.0007 Acc: 0.9322\n",
            "Loss: 0.0007 Acc: 0.9346\n",
            "Loss: 0.0007 Acc: 0.9308\n",
            "Loss: 0.0007 Acc: 0.9326\n",
            "Loss: 0.0007 Acc: 0.9295\n",
            "Loss: 0.0007 Acc: 0.9349\n",
            "Loss: 0.0007 Acc: 0.9344\n",
            "Loss: 0.0007 Acc: 0.9344\n",
            "Loss: 0.0006 Acc: 0.9349\n",
            "Loss: 0.0007 Acc: 0.9284\n",
            "Loss: 0.0007 Acc: 0.9292\n",
            "Loss: 0.0007 Acc: 0.9311\n",
            "Loss: 0.0007 Acc: 0.9337\n",
            "Loss: 0.0007 Acc: 0.9313\n",
            "Loss: 0.0007 Acc: 0.9344\n",
            "Loss: 0.0007 Acc: 0.9335\n",
            "Loss: 0.0006 Acc: 0.9376\n",
            "Loss: 0.0007 Acc: 0.9353\n",
            "Loss: 0.0006 Acc: 0.9371\n",
            "Loss: 0.0006 Acc: 0.9362\n",
            "Loss: 0.0007 Acc: 0.9346\n",
            "Loss: 0.0006 Acc: 0.9360\n",
            "Loss: 0.0006 Acc: 0.9366\n",
            "Loss: 0.0007 Acc: 0.9310\n",
            "Loss: 0.0006 Acc: 0.9341\n",
            "Loss: 0.0007 Acc: 0.9339\n",
            "Loss: 0.0006 Acc: 0.9391\n",
            "Loss: 0.0006 Acc: 0.9409\n",
            "Loss: 0.0006 Acc: 0.9380\n",
            "Loss: 0.0007 Acc: 0.9345\n",
            "Loss: 0.0006 Acc: 0.9364\n",
            "Loss: 0.0006 Acc: 0.9374\n",
            "Loss: 0.0006 Acc: 0.9428\n",
            "Loss: 0.0006 Acc: 0.9369\n",
            "Loss: 0.0006 Acc: 0.9422\n",
            "Loss: 0.0006 Acc: 0.9403\n",
            "Loss: 0.0006 Acc: 0.9394\n",
            "Loss: 0.0006 Acc: 0.9398\n",
            "Loss: 0.0006 Acc: 0.9355\n",
            "Loss: 0.0006 Acc: 0.9399\n",
            "Loss: 0.0006 Acc: 0.9416\n",
            "Loss: 0.0006 Acc: 0.9418\n",
            "Loss: 0.0006 Acc: 0.9427\n",
            "Loss: 0.0006 Acc: 0.9429\n",
            "Loss: 0.0006 Acc: 0.9433\n",
            "Loss: 0.0006 Acc: 0.9455\n",
            "Loss: 0.0006 Acc: 0.9424\n",
            "Loss: 0.0006 Acc: 0.9443\n",
            "Loss: 0.0006 Acc: 0.9409\n",
            "Loss: 0.0006 Acc: 0.9437\n",
            "Loss: 0.0006 Acc: 0.9418\n",
            "Loss: 0.0006 Acc: 0.9391\n",
            "Loss: 0.0006 Acc: 0.9404\n",
            "Loss: 0.0006 Acc: 0.9449\n",
            "Loss: 0.0005 Acc: 0.9440\n",
            "Loss: 0.0006 Acc: 0.9405\n",
            "Loss: 0.0006 Acc: 0.9479\n",
            "Loss: 0.0006 Acc: 0.9471\n",
            "Loss: 0.0006 Acc: 0.9451\n",
            "Loss: 0.0005 Acc: 0.9457\n",
            "Loss: 0.0006 Acc: 0.9441\n",
            "Loss: 0.0005 Acc: 0.9463\n",
            "Loss: 0.0006 Acc: 0.9417\n",
            "Loss: 0.0006 Acc: 0.9451\n",
            "Loss: 0.0005 Acc: 0.9479\n",
            "Loss: 0.0006 Acc: 0.9439\n",
            "Loss: 0.0006 Acc: 0.9438\n",
            "Loss: 0.0005 Acc: 0.9504\n",
            "Loss: 0.0005 Acc: 0.9469\n",
            "Loss: 0.0006 Acc: 0.9474\n",
            "Loss: 0.0005 Acc: 0.9491\n",
            "Loss: 0.0006 Acc: 0.9482\n",
            "Loss: 0.0005 Acc: 0.9470\n",
            "Loss: 0.0006 Acc: 0.9488\n",
            "Loss: 0.0006 Acc: 0.9443\n",
            "Loss: 0.0005 Acc: 0.9518\n",
            "Loss: 0.0006 Acc: 0.9441\n",
            "Loss: 0.0005 Acc: 0.9472\n",
            "Loss: 0.0005 Acc: 0.9479\n",
            "Loss: 0.0005 Acc: 0.9504\n",
            "Loss: 0.0005 Acc: 0.9492\n",
            "Loss: 0.0005 Acc: 0.9485\n",
            "Loss: 0.0005 Acc: 0.9477\n",
            "Loss: 0.0005 Acc: 0.9509\n",
            "Loss: 0.0005 Acc: 0.9475\n",
            "Loss: 0.0005 Acc: 0.9500\n",
            "Loss: 0.0005 Acc: 0.9487\n",
            "Loss: 0.0005 Acc: 0.9516\n",
            "Loss: 0.0005 Acc: 0.9508\n",
            "Loss: 0.0005 Acc: 0.9492\n",
            "Loss: 0.0005 Acc: 0.9501\n",
            "Loss: 0.0005 Acc: 0.9489\n",
            "Loss: 0.0005 Acc: 0.9504\n",
            "Loss: 0.0005 Acc: 0.9497\n",
            "Loss: 0.0005 Acc: 0.9518\n",
            "Loss: 0.0005 Acc: 0.9503\n",
            "Loss: 0.0005 Acc: 0.9494\n",
            "Loss: 0.0005 Acc: 0.9482\n",
            "Loss: 0.0005 Acc: 0.9538\n",
            "Loss: 0.0005 Acc: 0.9575\n",
            "Loss: 0.0005 Acc: 0.9559\n",
            "Loss: 0.0004 Acc: 0.9585\n",
            "Loss: 0.0004 Acc: 0.9604\n",
            "Loss: 0.0004 Acc: 0.9597\n",
            "Loss: 0.0004 Acc: 0.9597\n",
            "Loss: 0.0004 Acc: 0.9615\n",
            "Loss: 0.0004 Acc: 0.9569\n",
            "Loss: 0.0004 Acc: 0.9617\n",
            "Loss: 0.0004 Acc: 0.9608\n",
            "Loss: 0.0004 Acc: 0.9601\n",
            "Loss: 0.0004 Acc: 0.9613\n",
            "Loss: 0.0004 Acc: 0.9595\n",
            "Loss: 0.0004 Acc: 0.9619\n",
            "Loss: 0.0004 Acc: 0.9606\n",
            "Loss: 0.0004 Acc: 0.9623\n",
            "Loss: 0.0004 Acc: 0.9660\n",
            "Loss: 0.0004 Acc: 0.9613\n",
            "Loss: 0.0004 Acc: 0.9619\n",
            "Loss: 0.0004 Acc: 0.9652\n",
            "Loss: 0.0004 Acc: 0.9594\n",
            "Loss: 0.0004 Acc: 0.9603\n",
            "Loss: 0.0004 Acc: 0.9654\n",
            "Loss: 0.0004 Acc: 0.9632\n",
            "Loss: 0.0004 Acc: 0.9677\n",
            "Loss: 0.0004 Acc: 0.9650\n",
            "Loss: 0.0004 Acc: 0.9650\n",
            "Loss: 0.0004 Acc: 0.9649\n",
            "Loss: 0.0004 Acc: 0.9642\n",
            "Loss: 0.0004 Acc: 0.9661\n",
            "Loss: 0.0004 Acc: 0.9663\n",
            "Loss: 0.0004 Acc: 0.9651\n",
            "Loss: 0.0003 Acc: 0.9659\n",
            "Loss: 0.0004 Acc: 0.9639\n",
            "Loss: 0.0003 Acc: 0.9675\n",
            "Loss: 0.0004 Acc: 0.9668\n",
            "Loss: 0.0003 Acc: 0.9662\n",
            "Loss: 0.0003 Acc: 0.9656\n",
            "Loss: 0.0004 Acc: 0.9639\n",
            "Loss: 0.0004 Acc: 0.9670\n",
            "Loss: 0.0004 Acc: 0.9626\n",
            "Loss: 0.0004 Acc: 0.9661\n",
            "Loss: 0.0004 Acc: 0.9631\n",
            "Loss: 0.0004 Acc: 0.9660\n",
            "Loss: 0.0003 Acc: 0.9703\n",
            "Loss: 0.0003 Acc: 0.9687\n",
            "Loss: 0.0003 Acc: 0.9711\n",
            "Loss: 0.0003 Acc: 0.9679\n",
            "Loss: 0.0003 Acc: 0.9649\n",
            "Loss: 0.0003 Acc: 0.9666\n",
            "Loss: 0.0003 Acc: 0.9683\n",
            "Loss: 0.0003 Acc: 0.9689\n",
            "Loss: 0.0004 Acc: 0.9670\n",
            "Loss: 0.0003 Acc: 0.9708\n",
            "Loss: 0.0003 Acc: 0.9659\n",
            "Loss: 0.0004 Acc: 0.9650\n",
            "Loss: 0.0003 Acc: 0.9665\n",
            "Loss: 0.0003 Acc: 0.9674\n",
            "Loss: 0.0003 Acc: 0.9687\n",
            "Loss: 0.0003 Acc: 0.9679\n",
            "Loss: 0.0003 Acc: 0.9668\n",
            "Loss: 0.0003 Acc: 0.9693\n",
            "Loss: 0.0003 Acc: 0.9683\n",
            "Loss: 0.0003 Acc: 0.9683\n",
            "Loss: 0.0003 Acc: 0.9693\n",
            "Loss: 0.0004 Acc: 0.9650\n",
            "Loss: 0.0004 Acc: 0.9649\n",
            "Loss: 0.0003 Acc: 0.9710\n",
            "Loss: 0.0003 Acc: 0.9698\n",
            "Loss: 0.0003 Acc: 0.9672\n",
            "Loss: 0.0003 Acc: 0.9654\n",
            "Loss: 0.0003 Acc: 0.9684\n",
            "Loss: 0.0003 Acc: 0.9668\n",
            "Loss: 0.0003 Acc: 0.9695\n",
            "Loss: 0.0004 Acc: 0.9652\n",
            "Loss: 0.0003 Acc: 0.9660\n",
            "Loss: 0.0003 Acc: 0.9679\n",
            "Loss: 0.0003 Acc: 0.9692\n",
            "Loss: 0.0004 Acc: 0.9648\n",
            "Loss: 0.0003 Acc: 0.9654\n",
            "Loss: 0.0003 Acc: 0.9654\n",
            "Loss: 0.0003 Acc: 0.9643\n",
            "Loss: 0.0003 Acc: 0.9658\n",
            "Loss: 0.0003 Acc: 0.9710\n",
            "Loss: 0.0003 Acc: 0.9687\n",
            "Loss: 0.0003 Acc: 0.9695\n",
            "Loss: 0.0003 Acc: 0.9675\n",
            "Loss: 0.0003 Acc: 0.9661\n",
            "Loss: 0.0003 Acc: 0.9683\n",
            "Loss: 0.0003 Acc: 0.9691\n",
            "Loss: 0.0003 Acc: 0.9707\n",
            "Loss: 0.0004 Acc: 0.9639\n",
            "Loss: 0.0003 Acc: 0.9670\n",
            "Loss: 0.0003 Acc: 0.9664\n",
            "Loss: 0.0004 Acc: 0.9656\n"
          ],
          "name": "stdout"
        }
      ]
    },
    {
      "cell_type": "code",
      "metadata": {
        "id": "201cpyCeerI8",
        "colab_type": "code",
        "colab": {
          "base_uri": "https://localhost:8080/",
          "height": 809
        },
        "outputId": "a5c97f0d-588e-4515-b2eb-72680dc223fd"
      },
      "source": [
        "plt.plot(np.arange(len(loss_mem)),loss_mem)\n",
        "plt.title(\"Training loss\")\n",
        "plt.show()\n",
        "plt.plot(np.arange(len(acc_mem)),acc_mem)\n",
        "plt.title(\"Training accuracy\")\n",
        "plt.show()\n",
        "plt.plot(np.arange(len(lr_mem)), lr_mem)\n",
        "plt.title(\"learning rate over training\")\n",
        "plt.show()"
      ],
      "execution_count": null,
      "outputs": [
        {
          "output_type": "display_data",
          "data": {
            "image/png": "[encoded data removed]",
            "text/plain": [
              "<Figure size 432x288 with 1 Axes>"
            ]
          },
          "metadata": {
            "tags": [],
            "needs_background": "light"
          }
        },
        {
          "output_type": "display_data",
          "data": {
            "image/png": "[encoded data removed]",
            "text/plain": [
              "<Figure size 432x288 with 1 Axes>"
            ]
          },
          "metadata": {
            "tags": [],
            "needs_background": "light"
          }
        },
        {
          "output_type": "display_data",
          "data": {
            "image/png": "[encoded data removed]",
            "text/plain": [
              "<Figure size 432x288 with 1 Axes>"
            ]
          },
          "metadata": {
            "tags": [],
            "needs_background": "light"
          }
        }
      ]
    },
    {
      "cell_type": "code",
      "metadata": {
        "id": "5GWgMQBJEkfA",
        "colab_type": "code",
        "colab": {}
      },
      "source": [
        "predic, gt = test_model(BoxModel, dataloader = validLoader_2apps, size = len(valid_2apps))"
      ],
      "execution_count": null,
      "outputs": []
    },
    {
      "cell_type": "code",
      "metadata": {
        "id": "zosaGDU1J0eC",
        "colab_type": "code",
        "colab": {
          "base_uri": "https://localhost:8080/",
          "height": 34
        },
        "outputId": "046de94a-6138-4303-8c94-0c3bc69d5b08"
      },
      "source": [
        "res_per_app = eval_predictions(predic, gt)"
      ],
      "execution_count": null,
      "outputs": [
        {
          "output_type": "stream",
          "text": [
            "Overall accuracy : 0.8391544117647058 \n"
          ],
          "name": "stdout"
        }
      ]
    },
    {
      "cell_type": "code",
      "metadata": {
        "id": "gZT6QyhvJ_ND",
        "colab_type": "code",
        "colab": {
          "base_uri": "https://localhost:8080/",
          "height": 920
        },
        "outputId": "9809cb6e-8f57-4c85-cda2-c7608092dc06"
      },
      "source": [
        "for name, metrics, conf_mat in res_per_app: \n",
        "  print(name)\n",
        "  print(metrics)\n",
        "  print(conf_mat)\n",
        "  print('\\n')"
      ],
      "execution_count": null,
      "outputs": [
        {
          "output_type": "stream",
          "text": [
            "lighting\n",
            "Acc    0.924173\n",
            "Rec    0.802083\n",
            "Pre    0.846154\n",
            "Spe    0.958726\n",
            "F1     0.823529\n",
            "dtype: float64\n",
            "                        Actual          \n",
            "                     Negatives Positives\n",
            "Prediction Negatives      1626        70\n",
            "           Positives        95       385\n",
            "\n",
            "\n",
            "washer_dryer\n",
            "Acc    0.929228\n",
            "Rec    0.817805\n",
            "Pre    0.856833\n",
            "Spe    0.961016\n",
            "F1     0.836864\n",
            "dtype: float64\n",
            "                        Actual          \n",
            "                     Negatives Positives\n",
            "Prediction Negatives      1627        66\n",
            "           Positives        88       395\n",
            "\n",
            "\n",
            "refrigerator\n",
            "Acc    0.920496\n",
            "Rec    0.888342\n",
            "Pre    0.837461\n",
            "Spe    0.932993\n",
            "F1     0.862151\n",
            "dtype: float64\n",
            "                        Actual          \n",
            "                     Negatives Positives\n",
            "Prediction Negatives      1462       105\n",
            "           Positives        68       541\n",
            "\n",
            "\n",
            "dishwasher\n",
            "Acc    0.904412\n",
            "Rec    0.836093\n",
            "Pre    0.822476\n",
            "Spe    0.930662\n",
            "F1     0.829228\n",
            "dtype: float64\n",
            "                        Actual          \n",
            "                     Negatives Positives\n",
            "Prediction Negatives      1463       109\n",
            "           Positives        99       505\n",
            "\n",
            "\n"
          ],
          "name": "stdout"
        }
      ]
    },
    {
      "cell_type": "markdown",
      "metadata": {
        "id": "_qD7WBPYvwJr",
        "colab_type": "text"
      },
      "source": [
        "# Saving model\n",
        "\n",
        "Now we can save our model and use it on any unseen data."
      ]
    },
    {
      "cell_type": "code",
      "metadata": {
        "id": "5447I1U44UQA",
        "colab_type": "code",
        "colab": {}
      },
      "source": [
        "model_save_path = root_dir + \"boxnet_state_dict.pt\""
      ],
      "execution_count": null,
      "outputs": []
    },
    {
      "cell_type": "code",
      "metadata": {
        "id": "UaIgs4zDwUC4",
        "colab_type": "code",
        "colab": {}
      },
      "source": [
        "torch.save(BoxModel.cpu().state_dict(), model_save_path)"
      ],
      "execution_count": null,
      "outputs": []
    },
    {
      "cell_type": "code",
      "metadata": {
        "id": "rUY7Sy_U32lE",
        "colab_type": "code",
        "colab": {
          "base_uri": "https://localhost:8080/",
          "height": 17
        },
        "outputId": "9a4bdc14-e620-4ada-bd9d-4227c6bc8f36"
      },
      "source": [
        "files.download(model_save_path)"
      ],
      "execution_count": null,
      "outputs": [
        {
          "output_type": "display_data",
          "data": {
            "application/javascript": [
              "\n",
              "    async function download(id, filename, size) {\n",
              "      if (!google.colab.kernel.accessAllowed) {\n",
              "        return;\n",
              "      }\n",
              "      const div = document.createElement('div');\n",
              "      const label = document.createElement('label');\n",
              "      label.textContent = `Downloading \"${filename}\": `;\n",
              "      div.appendChild(label);\n",
              "      const progress = document.createElement('progress');\n",
              "      progress.max = size;\n",
              "      div.appendChild(progress);\n",
              "      document.body.appendChild(div);\n",
              "\n",
              "      const buffers = [];\n",
              "      let downloaded = 0;\n",
              "\n",
              "      const channel = await google.colab.kernel.comms.open(id);\n",
              "      // Send a message to notify the kernel that we're ready.\n",
              "      channel.send({})\n",
              "\n",
              "      for await (const message of channel.messages) {\n",
              "        // Send a message to notify the kernel that we're ready.\n",
              "        channel.send({})\n",
              "        if (message.buffers) {\n",
              "          for (const buffer of message.buffers) {\n",
              "            buffers.push(buffer);\n",
              "            downloaded += buffer.byteLength;\n",
              "            progress.value = downloaded;\n",
              "          }\n",
              "        }\n",
              "      }\n",
              "      const blob = new Blob(buffers, {type: 'application/binary'});\n",
              "      const a = document.createElement('a');\n",
              "      a.href = window.URL.createObjectURL(blob);\n",
              "      a.download = filename;\n",
              "      div.appendChild(a);\n",
              "      a.click();\n",
              "      div.remove();\n",
              "    }\n",
              "  "
            ],
            "text/plain": [
              "<IPython.core.display.Javascript object>"
            ]
          },
          "metadata": {
            "tags": []
          }
        },
        {
          "output_type": "display_data",
          "data": {
            "application/javascript": [
              "download(\"download_b1b7b13b-f6fd-4bdc-9f4f-50122246b9ef\", \"boxnet_state_dict.pt\", 84129053)"
            ],
            "text/plain": [
              "<IPython.core.display.Javascript object>"
            ]
          },
          "metadata": {
            "tags": []
          }
        }
      ]
    }
  ]
}